{
 "cells": [
  {
   "attachments": {},
   "cell_type": "markdown",
   "metadata": {},
   "source": [
    "# Loading data"
   ]
  },
  {
   "attachments": {},
   "cell_type": "markdown",
   "metadata": {},
   "source": [
    "## Initial Preparation"
   ]
  },
  {
   "attachments": {},
   "cell_type": "markdown",
   "metadata": {},
   "source": [
    "First define where the training data url is"
   ]
  },
  {
   "cell_type": "code",
   "execution_count": null,
   "metadata": {},
   "outputs": [],
   "source": [
    "import os \n",
    "cwd = os.getcwd()\n",
    "repository_dir = '/'.join(cwd.split('/')[:-1])\n",
    "TRAIN_DATA_DIR = f'{repository_dir}/data/data/preprocessed/preprocessed.txt'\n",
    "\n",
    "assert os.path.exists(TRAIN_DATA_DIR), 'Make sure you follow the steps of README.md in data repository'\n",
    "\n",
    "print(f'Training data located at {TRAIN_DATA_DIR}')"
   ]
  },
  {
   "attachments": {},
   "cell_type": "markdown",
   "metadata": {},
   "source": [
    "Then load the data"
   ]
  },
  {
   "cell_type": "code",
   "execution_count": null,
   "metadata": {},
   "outputs": [],
   "source": [
    "with open(TRAIN_DATA_DIR, 'r', encoding='utf-8') as train_file:\n",
    "    train_data = train_file.read()\n",
    "\n",
    "\n",
    "# Inspection\n",
    "print(f'Loaded {len(train_data)} characters')\n",
    "print(f'First 100 characters:\\n{train_data[:100]}')"
   ]
  },
  {
   "attachments": {},
   "cell_type": "markdown",
   "metadata": {},
   "source": [
    "## Tokenization"
   ]
  },
  {
   "attachments": {},
   "cell_type": "markdown",
   "metadata": {},
   "source": [
    "Tokenization is essentially turning the data into 'words' that the model understands. Below the vocabulary that is defined is based on a character basis. \n",
    "\n",
    "TODO: check out other tokenizers:\n",
    "tiktoken - https://github.com/openai/tiktoken\n",
    "sentencepiece - https://github.com/google/sentencepiece"
   ]
  },
  {
   "cell_type": "code",
   "execution_count": 122,
   "metadata": {},
   "outputs": [
    {
     "name": "stdout",
     "output_type": "stream",
     "text": [
      "Vocabulary (115 characters): \n",
      " !\"#$%&'()*+,-./0123456789:;<=>?@ABCDEFGHIJKLMNOPQRSTUVWXYZ[\\]_`abcdefghijklmnopqrstuvwxyz{}~ ±Í×çéëñĹ​–—‘’“”•…₈℅→\n"
     ]
    }
   ],
   "source": [
    "chars = sorted(list(set(train_data)))\n",
    "print(f'Vocabulary ({len(chars)} characters): {\"\".join(chars)}')\n",
    "char_to_digit = {char:digit for digit, char in enumerate(chars)}\n",
    "digit_to_char = {digit:char for digit, char in enumerate(chars)}\n",
    "\n",
    "encode = lambda string: [char_to_digit[char] for char in string]\n",
    "decode = lambda digits: ''.join([digit_to_char[digit] for digit in digits])"
   ]
  },
  {
   "cell_type": "code",
   "execution_count": null,
   "metadata": {},
   "outputs": [],
   "source": [
    "import tiktoken\n",
    "\n",
    "enc = tiktoken.get_encoding('gpt2')"
   ]
  }
 ],
 "metadata": {
  "kernelspec": {
   "display_name": "fyp",
   "language": "python",
   "name": "python3"
  },
  "language_info": {
   "codemirror_mode": {
    "name": "ipython",
    "version": 3
   },
   "file_extension": ".py",
   "mimetype": "text/x-python",
   "name": "python",
   "nbconvert_exporter": "python",
   "pygments_lexer": "ipython3",
   "version": "3.9.12"
  },
  "orig_nbformat": 4,
  "vscode": {
   "interpreter": {
    "hash": "faf7ff0063859ba4ac17d2ca41341beebe28095055f136698c75e8f10562c7e6"
   }
  }
 },
 "nbformat": 4,
 "nbformat_minor": 2
}
