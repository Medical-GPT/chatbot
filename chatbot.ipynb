{
 "cells": [
  {
   "cell_type": "code",
   "execution_count": 41,
   "metadata": {},
   "outputs": [
    {
     "name": "stdout",
     "output_type": "stream",
     "text": [
      "mps\n"
     ]
    }
   ],
   "source": [
    "import torch\n",
    "\n",
    "device = \"cuda\" if torch.cuda.is_available() else \"cpu\"\n",
    "device = 'mps'\n",
    "print(device)"
   ]
  },
  {
   "attachments": {},
   "cell_type": "markdown",
   "metadata": {},
   "source": [
    "# Loading data"
   ]
  },
  {
   "attachments": {},
   "cell_type": "markdown",
   "metadata": {},
   "source": [
    "## Initial Preparation"
   ]
  },
  {
   "attachments": {},
   "cell_type": "markdown",
   "metadata": {},
   "source": [
    "First define where the training data url is"
   ]
  },
  {
   "cell_type": "code",
   "execution_count": 42,
   "metadata": {},
   "outputs": [
    {
     "name": "stdout",
     "output_type": "stream",
     "text": [
      "Training data located at input.txt\n"
     ]
    }
   ],
   "source": [
    "import os \n",
    "cwd = os.getcwd()\n",
    "repository_dir = '/'.join(cwd.split('/')[:-1])\n",
    "# DATA_DIR = f'{repository_dir}/data/data/preprocessed/preprocessed.txt'\n",
    "DATA_DIR = 'input.txt'\n",
    "assert os.path.exists(DATA_DIR), 'Make sure you follow the steps of README.md in data repository'\n",
    "\n",
    "print(f'Training data located at {DATA_DIR}')"
   ]
  },
  {
   "attachments": {},
   "cell_type": "markdown",
   "metadata": {},
   "source": [
    "Then load the data"
   ]
  },
  {
   "cell_type": "code",
   "execution_count": 43,
   "metadata": {},
   "outputs": [
    {
     "name": "stdout",
     "output_type": "stream",
     "text": [
      "Loaded 1115394 characters\n",
      "First 100 characters:\n",
      "First Citizen:\n",
      "Before we proceed any further, hear me speak.\n",
      "\n",
      "All:\n",
      "Speak, speak.\n",
      "\n",
      "First Citizen:\n",
      "You\n"
     ]
    }
   ],
   "source": [
    "with open(DATA_DIR, 'r', encoding='utf-8') as train_file:\n",
    "    raw_data = train_file.read()\n",
    "\n",
    "\n",
    "# Inspection\n",
    "print(f'Loaded {len(raw_data)} characters')\n",
    "print(f'First 100 characters:\\n{raw_data[:100]}')"
   ]
  },
  {
   "attachments": {},
   "cell_type": "markdown",
   "metadata": {},
   "source": [
    "## Tokenization"
   ]
  },
  {
   "attachments": {},
   "cell_type": "markdown",
   "metadata": {},
   "source": [
    "Tokenization is essentially turning the data into 'words' that the model understands. Below the vocabulary that is defined is based on a character basis. \n",
    "\n",
    "TODO: check out other tokenizers:\n",
    "tiktoken - https://github.com/openai/tiktoken\n",
    "sentencepiece - https://github.com/google/sentencepiece"
   ]
  },
  {
   "cell_type": "code",
   "execution_count": 44,
   "metadata": {},
   "outputs": [
    {
     "name": "stdout",
     "output_type": "stream",
     "text": [
      "Vocabulary (65 characters): \n",
      " !$&',-.3:;?ABCDEFGHIJKLMNOPQRSTUVWXYZabcdefghijklmnopqrstuvwxyz\n"
     ]
    }
   ],
   "source": [
    "chars = sorted(list(set(raw_data)))\n",
    "VOCAB_SIZE = len(chars)\n",
    "print(f'Vocabulary ({VOCAB_SIZE} characters): {\"\".join(chars)}')\n",
    "char_to_digit = {char:digit for digit, char in enumerate(chars)}\n",
    "digit_to_char = {digit:char for digit, char in enumerate(chars)}\n",
    "\n",
    "encode = lambda string: [char_to_digit[char] for char in string]\n",
    "decode = lambda digits: ''.join([digit_to_char[digit] for digit in digits])"
   ]
  },
  {
   "cell_type": "code",
   "execution_count": 45,
   "metadata": {},
   "outputs": [
    {
     "name": "stdout",
     "output_type": "stream",
     "text": [
      "torch.Size([1115394]) torch.int64\n",
      "tensor([18, 47, 56, 57, 58,  1, 15, 47, 58, 47, 64, 43, 52, 10,  0, 14, 43, 44,\n",
      "        53, 56, 43,  1, 61, 43,  1, 54, 56, 53, 41, 43, 43, 42,  1, 39, 52, 63,\n",
      "         1, 44, 59, 56, 58, 46, 43, 56,  6,  1, 46, 43, 39, 56,  1, 51, 43,  1,\n",
      "        57, 54, 43, 39, 49,  8,  0,  0, 13, 50, 50, 10,  0, 31, 54, 43, 39, 49,\n",
      "         6,  1, 57, 54, 43, 39, 49,  8,  0,  0, 18, 47, 56, 57, 58,  1, 15, 47,\n",
      "        58, 47, 64, 43, 52, 10,  0, 37, 53, 59,  1, 39, 56, 43,  1, 39, 50, 50,\n",
      "         1, 56, 43, 57, 53, 50, 60, 43, 42,  1, 56, 39, 58, 46, 43, 56,  1, 58,\n",
      "        53,  1, 42, 47, 43,  1, 58, 46, 39, 52,  1, 58, 53,  1, 44, 39, 51, 47,\n",
      "        57, 46, 12,  0,  0, 13, 50, 50, 10,  0, 30, 43, 57, 53, 50, 60, 43, 42,\n",
      "         8,  1, 56, 43, 57, 53, 50, 60, 43, 42,  8,  0,  0, 18, 47, 56, 57, 58,\n",
      "         1, 15, 47, 58, 47, 64, 43, 52, 10,  0, 18, 47, 56, 57, 58,  6,  1, 63,\n",
      "        53, 59,  1, 49, 52, 53, 61,  1, 15, 39, 47, 59, 57,  1, 25, 39, 56, 41,\n",
      "        47, 59, 57,  1, 47, 57,  1, 41, 46, 47, 43, 44,  1, 43, 52, 43, 51, 63,\n",
      "         1, 58, 53,  1, 58, 46, 43,  1, 54, 43, 53, 54, 50, 43,  8,  0,  0, 13,\n",
      "        50, 50, 10,  0, 35, 43,  1, 49, 52, 53, 61,  5, 58,  6,  1, 61, 43,  1,\n",
      "        49, 52, 53, 61,  5, 58,  8,  0,  0, 18, 47, 56, 57, 58,  1, 15, 47, 58,\n",
      "        47, 64, 43, 52, 10,  0, 24, 43, 58,  1, 59, 57,  1, 49, 47, 50, 50,  1,\n",
      "        46, 47, 51,  6,  1, 39, 52, 42,  1, 61, 43,  5, 50, 50,  1, 46, 39, 60,\n",
      "        43,  1, 41, 53, 56, 52,  1, 39, 58,  1, 53, 59, 56,  1, 53, 61, 52,  1,\n",
      "        54, 56, 47, 41, 43,  8,  0, 21, 57,  5, 58,  1, 39,  1, 60, 43, 56, 42,\n",
      "        47, 41, 58, 12,  0,  0, 13, 50, 50, 10,  0, 26, 53,  1, 51, 53, 56, 43,\n",
      "         1, 58, 39, 50, 49, 47, 52, 45,  1, 53, 52,  5, 58, 11,  1, 50, 43, 58,\n",
      "         1, 47, 58,  1, 40, 43,  1, 42, 53, 52, 43, 10,  1, 39, 61, 39, 63,  6,\n",
      "         1, 39, 61, 39, 63,  2,  0,  0, 31, 43, 41, 53, 52, 42,  1, 15, 47, 58,\n",
      "        47, 64, 43, 52, 10,  0, 27, 52, 43,  1, 61, 53, 56, 42,  6,  1, 45, 53,\n",
      "        53, 42,  1, 41, 47, 58, 47, 64, 43, 52, 57,  8,  0,  0, 18, 47, 56, 57,\n",
      "        58,  1, 15, 47, 58, 47, 64, 43, 52, 10,  0, 35, 43,  1, 39, 56, 43,  1,\n",
      "        39, 41, 41, 53, 59, 52, 58, 43, 42,  1, 54, 53, 53, 56,  1, 41, 47, 58,\n",
      "        47, 64, 43, 52, 57,  6,  1, 58, 46, 43,  1, 54, 39, 58, 56, 47, 41, 47,\n",
      "        39, 52, 57,  1, 45, 53, 53, 42,  8,  0, 35, 46, 39, 58,  1, 39, 59, 58,\n",
      "        46, 53, 56, 47, 58, 63,  1, 57, 59, 56, 44, 43, 47, 58, 57,  1, 53, 52,\n",
      "         1, 61, 53, 59, 50, 42,  1, 56, 43, 50, 47, 43, 60, 43,  1, 59, 57, 10,\n",
      "         1, 47, 44,  1, 58, 46, 43, 63,  0, 61, 53, 59, 50, 42,  1, 63, 47, 43,\n",
      "        50, 42,  1, 59, 57,  1, 40, 59, 58,  1, 58, 46, 43,  1, 57, 59, 54, 43,\n",
      "        56, 44, 50, 59, 47, 58, 63,  6,  1, 61, 46, 47, 50, 43,  1, 47, 58,  1,\n",
      "        61, 43, 56, 43,  0, 61, 46, 53, 50, 43, 57, 53, 51, 43,  6,  1, 61, 43,\n",
      "         1, 51, 47, 45, 46, 58,  1, 45, 59, 43, 57, 57,  1, 58, 46, 43, 63,  1,\n",
      "        56, 43, 50, 47, 43, 60, 43, 42,  1, 59, 57,  1, 46, 59, 51, 39, 52, 43,\n",
      "        50, 63, 11,  0, 40, 59, 58,  1, 58, 46, 43, 63,  1, 58, 46, 47, 52, 49,\n",
      "         1, 61, 43,  1, 39, 56, 43,  1, 58, 53, 53,  1, 42, 43, 39, 56, 10,  1,\n",
      "        58, 46, 43,  1, 50, 43, 39, 52, 52, 43, 57, 57,  1, 58, 46, 39, 58,  0,\n",
      "        39, 44, 44, 50, 47, 41, 58, 57,  1, 59, 57,  6,  1, 58, 46, 43,  1, 53,\n",
      "        40, 48, 43, 41, 58,  1, 53, 44,  1, 53, 59, 56,  1, 51, 47, 57, 43, 56,\n",
      "        63,  6,  1, 47, 57,  1, 39, 57,  1, 39, 52,  0, 47, 52, 60, 43, 52, 58,\n",
      "        53, 56, 63,  1, 58, 53,  1, 54, 39, 56, 58, 47, 41, 59, 50, 39, 56, 47,\n",
      "        57, 43,  1, 58, 46, 43, 47, 56,  1, 39, 40, 59, 52, 42, 39, 52, 41, 43,\n",
      "        11,  1, 53, 59, 56,  0, 57, 59, 44, 44, 43, 56, 39, 52, 41, 43,  1, 47,\n",
      "        57,  1, 39,  1, 45, 39, 47, 52,  1, 58, 53,  1, 58, 46, 43, 51,  1, 24,\n",
      "        43, 58,  1, 59, 57,  1, 56, 43, 60, 43, 52, 45, 43,  1, 58, 46, 47, 57,\n",
      "         1, 61, 47, 58, 46,  0, 53, 59, 56,  1, 54, 47, 49, 43, 57,  6,  1, 43,\n",
      "        56, 43,  1, 61, 43,  1, 40, 43, 41, 53, 51, 43,  1, 56, 39, 49, 43, 57,\n",
      "        10,  1, 44, 53, 56,  1, 58, 46, 43,  1, 45, 53, 42, 57,  1, 49, 52, 53,\n",
      "        61,  1, 21,  0, 57, 54, 43, 39, 49,  1, 58, 46, 47, 57,  1, 47, 52,  1,\n",
      "        46, 59, 52, 45, 43, 56,  1, 44, 53, 56,  1, 40, 56, 43, 39, 42,  6,  1,\n",
      "        52, 53, 58,  1, 47, 52,  1, 58, 46, 47, 56, 57, 58,  1, 44, 53, 56,  1,\n",
      "        56, 43, 60, 43, 52, 45, 43,  8,  0,  0])\n"
     ]
    }
   ],
   "source": [
    "import torch # we use PyTorch: https://pytorch.org\n",
    "data = torch.tensor(encode(raw_data), dtype=torch.long)\n",
    "print(data.shape, data.dtype)\n",
    "print(data[:1000]) # the 1000 characters we looked at earier will to the GPT look like this"
   ]
  },
  {
   "attachments": {},
   "cell_type": "markdown",
   "metadata": {},
   "source": [
    "## Train/Val Split"
   ]
  },
  {
   "cell_type": "code",
   "execution_count": 46,
   "metadata": {},
   "outputs": [],
   "source": [
    "TRAIN_PROPORTION = 0.9 # 90% of data is for training, 10% for validation\n",
    "idx = int(TRAIN_PROPORTION * len(data)) \n",
    "train_data = data[:idx]\n",
    "val_data = data[idx:]"
   ]
  },
  {
   "attachments": {},
   "cell_type": "markdown",
   "metadata": {},
   "source": [
    "## Chunking data\n",
    "\n",
    "It is important to note that it is computationaly infeasible and prohibitive to train on the **whole** dataset all at once, due to the large training data size. This is why data is separated into *chunks*, which are smaller random samples of the whole dataset. The size of the chunks is defined by the variable `block_size`"
   ]
  },
  {
   "attachments": {},
   "cell_type": "markdown",
   "metadata": {},
   "source": [
    "### Blocks"
   ]
  },
  {
   "cell_type": "code",
   "execution_count": 47,
   "metadata": {},
   "outputs": [
    {
     "data": {
      "text/plain": [
       "tensor([18, 47, 56, 57, 58,  1, 15, 47, 58, 47, 64, 43, 52, 10,  0, 14, 43, 44,\n",
       "        53, 56, 43,  1, 61, 43,  1, 54, 56, 53, 41, 43, 43, 42,  1, 39, 52, 63,\n",
       "         1, 44, 59, 56, 58, 46, 43, 56,  6,  1, 46, 43, 39, 56,  1, 51, 43,  1,\n",
       "        57, 54, 43, 39, 49,  8,  0,  0, 13, 50, 50])"
      ]
     },
     "execution_count": 47,
     "metadata": {},
     "output_type": "execute_result"
    }
   ],
   "source": [
    "BLOCK_SIZE = 64\n",
    "train_data[:BLOCK_SIZE+1]\n"
   ]
  },
  {
   "attachments": {},
   "cell_type": "markdown",
   "metadata": {},
   "source": [
    "The way training is carried out is that for every character `c` in a chunk, `c` is the label and the inputs are all characters before `c`. \n",
    "This approach is useful, because the model can start predicting from as little as a single character, and predict everything up until block size\n",
    "#### Example:"
   ]
  },
  {
   "cell_type": "code",
   "execution_count": 48,
   "metadata": {},
   "outputs": [
    {
     "name": "stdout",
     "output_type": "stream",
     "text": [
      "Input       | Output\n",
      "======================\n",
      "H           | e\n",
      "He          | l\n",
      "Hel         | l\n",
      "Hell        | o\n",
      "Hello       | ,\n",
      "Hello,      |  \n",
      "Hello,      | t\n",
      "Hello, t    | h\n",
      "Hello, th   | e\n",
      "Hello, the  | r\n",
      "Hello, ther | e\n"
     ]
    }
   ],
   "source": [
    "example = \"Hello, there\"\n",
    "print(f\"Input{' ' * 7}| Output\")\n",
    "print('='*22)\n",
    "for t in range(1, len(example)):\n",
    "    inputs = example[:t]\n",
    "    output = example[t]\n",
    "\n",
    "    print(f\"{inputs:<11} | {output}\")\n"
   ]
  },
  {
   "attachments": {},
   "cell_type": "markdown",
   "metadata": {},
   "source": [
    "### Batch\n",
    "\n",
    "There is an additional dimension except the time dimension (blocks), which is the batch. Multiple blocks are sampled and stacked on top of each other to create a batch. This way multiple samples can be processed in parallel."
   ]
  },
  {
   "cell_type": "code",
   "execution_count": 49,
   "metadata": {},
   "outputs": [
    {
     "name": "stdout",
     "output_type": "stream",
     "text": [
      "(tensor([[43, 51, 40,  ..., 43,  1, 50],\n",
      "        [20, 39, 58,  ..., 10,  0, 32],\n",
      "        [ 1, 28, 46,  ..., 56,  7, 42],\n",
      "        ...,\n",
      "        [56, 10,  0,  ..., 58,  1, 31],\n",
      "        [52, 53, 58,  ...,  0,  0, 35],\n",
      "        [42,  1, 52,  ...,  1, 46, 53]], device='mps:0'), tensor([[51, 40, 56,  ...,  1, 50, 53],\n",
      "        [39, 58, 46,  ...,  0, 32, 56],\n",
      "        [28, 46, 53,  ...,  7, 42, 43],\n",
      "        ...,\n",
      "        [10,  0, 26,  ...,  1, 31, 43],\n",
      "        [53, 58,  1,  ...,  0, 35, 13],\n",
      "        [ 1, 52, 53,  ..., 46, 53, 59]], device='mps:0'))\n"
     ]
    }
   ],
   "source": [
    "BATCH_SIZE = 64\n",
    "BLOCK_SIZE = 128\n",
    "N_EMBD = 64\n",
    "SEED = 1338\n",
    "\n",
    "torch.manual_seed(SEED)\n",
    "\n",
    "def get_batch(split = 'train'):\n",
    "    data = train_data if split == 'train' else val_data\n",
    "    # data = torch.tensor([i for i in range(100)])\n",
    "\n",
    "    # Generate BATCH_SIZE random starting positions for each block\n",
    "    block_indices = torch.randint(len(data) - BLOCK_SIZE, (BATCH_SIZE,)) \n",
    "    block_range = torch.arange(0, BLOCK_SIZE, dtype=torch.int)\n",
    "\n",
    "    # Add the above range to each starting position to create a set\n",
    "    # of indices for each block \n",
    "    block_ranges = block_indices[:, None] + block_range\n",
    "    \n",
    "    x = data[block_ranges] \n",
    "    y = data[block_ranges + 1]\n",
    "    return x.to(device), y.to(device)    \n",
    "\n",
    "print(get_batch())\n"
   ]
  },
  {
   "attachments": {},
   "cell_type": "markdown",
   "metadata": {},
   "source": [
    "## Loss Estimation"
   ]
  },
  {
   "cell_type": "code",
   "execution_count": 50,
   "metadata": {},
   "outputs": [],
   "source": [
    "@torch.no_grad()\n",
    "def estimate_loss(model, eval_iters = 10):\n",
    "    out = {}\n",
    "    model.eval()\n",
    "    \n",
    "    for split in [\"test\", \"validation\"]:\n",
    "        losses = torch.zeros(eval_iters).to(device)\n",
    "        for k in range(eval_iters):\n",
    "            x, y = get_batch(split)\n",
    "            loss = model(x, y)\n",
    "            losses[k] = loss\n",
    "\n",
    "        out[split] = losses.mean().item()\n",
    "\n",
    "    model.train()\n",
    "    return out"
   ]
  },
  {
   "attachments": {},
   "cell_type": "markdown",
   "metadata": {},
   "source": [
    "# Bigram Language Model"
   ]
  },
  {
   "cell_type": "code",
   "execution_count": 51,
   "metadata": {},
   "outputs": [],
   "source": [
    "import torch.nn as nn\n",
    "from torch.nn import functional as F\n",
    "\n",
    "torch.manual_seed(1337)\n",
    "\n",
    "class BigramLanguageModel(nn.Module):\n",
    "\n",
    "    def __init__(self, vocab_size):\n",
    "        super().__init__()\n",
    "        self.token_embedding_table = nn.Embedding(vocab_size, vocab_size)\n",
    "\n",
    "    def predict(self, input):\n",
    "        return self.token_embedding_table(input)\n",
    "\n",
    "    def forward(self, input, targets):\n",
    "\n",
    "        # Number of channels is the same as the vocabulary size meaning for each letter\n",
    "        # we have a vector of size VOCAB_SIZE storing the probability of each letter appearing\n",
    "        logits = self.predict(input) # logits.shape = B, T, C - Batch, Time, Channels\n",
    "        B, T, C = logits.shape\n",
    "        transformed_logits = logits.view(B*T, C)\n",
    "        targets = targets.view(B*T)\n",
    "        loss = F.cross_entropy(transformed_logits, targets) # Expects B*T, C\n",
    "        return loss\n",
    "    \n",
    "    def generate(self, input, max_characters=20):\n",
    "        for _ in range(max_characters):\n",
    "            logits = self.predict(input)\n",
    "            logits = logits[:, -1, :]\n",
    "            distribution = F.softmax(logits, dim=-1)\n",
    "            next = torch.multinomial(distribution, num_samples=1)\n",
    "            input = torch.cat((input, next), dim=1)\n",
    "        return input[0]\n",
    "\n",
    "# model = BigramLanguageModel(VOCAB_SIZE).to(device)\n",
    "# x, y = get_batch()\n",
    "\n",
    "# context = torch.zeros((1, 1), dtype=torch.long).to(device)\n",
    "# res = model.generate(context)\n",
    "# print(decode(res.tolist()))\n"
   ]
  },
  {
   "attachments": {},
   "cell_type": "markdown",
   "metadata": {},
   "source": [
    "## Training the model"
   ]
  },
  {
   "cell_type": "code",
   "execution_count": 52,
   "metadata": {},
   "outputs": [],
   "source": [
    "import time\n",
    "\n",
    "def train(model, epochs = 10000, learning_rate = 1e-3, eval_step = 1000):\n",
    "    # https://arxiv.org/abs/1711.05101v3\n",
    "    # https://paperswithcode.com/method/adamw\n",
    "    optimizer = torch.optim.AdamW(model.parameters(), lr = learning_rate)\n",
    "    start = time.time()\n",
    "\n",
    "    for i in range(epochs):\n",
    "        x, y = get_batch()\n",
    "        loss = model(x, y)\n",
    "        optimizer.zero_grad(set_to_none=True)\n",
    "        loss.backward()\n",
    "        optimizer.step()\n",
    "        if i % eval_step == 0:\n",
    "            print(f'Epoch {i} - {estimate_loss(model)}')\n",
    "            end = time.time()\n",
    "            print(f\"Time taken: {end - start}\")\n",
    "            start = time.time()"
   ]
  },
  {
   "attachments": {},
   "cell_type": "markdown",
   "metadata": {},
   "source": [
    "# Self-attention \n",
    "Taking into consideration all previous characters."
   ]
  },
  {
   "attachments": {},
   "cell_type": "markdown",
   "metadata": {},
   "source": [
    "Let's start by just taking the average of the previous characters."
   ]
  },
  {
   "cell_type": "code",
   "execution_count": 54,
   "metadata": {},
   "outputs": [
    {
     "name": "stdout",
     "output_type": "stream",
     "text": [
      "torch.Size([4, 8, 2])\n"
     ]
    }
   ],
   "source": [
    "import torch\n",
    "\n",
    "B, T, C = 4, 8, 2\n",
    "\n",
    "x = torch.randn(B, T, C)\n",
    "\n",
    "print(x.shape)"
   ]
  },
  {
   "cell_type": "code",
   "execution_count": 55,
   "metadata": {},
   "outputs": [
    {
     "name": "stdout",
     "output_type": "stream",
     "text": [
      "tensor([[[ 0.1808, -0.0700],\n",
      "         [-0.0894, -0.4926],\n",
      "         [ 0.1490, -0.3199],\n",
      "         [ 0.3504, -0.2238],\n",
      "         [ 0.3525,  0.0545],\n",
      "         [ 0.0688, -0.0396],\n",
      "         [ 0.0927, -0.0682],\n",
      "         [-0.0341,  0.1332]],\n",
      "\n",
      "        [[ 1.3488, -0.1396],\n",
      "         [ 0.8173,  0.4127],\n",
      "         [-0.1342,  0.4395],\n",
      "         [ 0.2711,  0.4774],\n",
      "         [ 0.2421,  0.0694],\n",
      "         [ 0.0084,  0.0020],\n",
      "         [ 0.0712, -0.1128],\n",
      "         [ 0.2527,  0.2149]],\n",
      "\n",
      "        [[-0.6631, -0.2513],\n",
      "         [ 0.1735, -0.0649],\n",
      "         [ 0.1685,  0.3348],\n",
      "         [-0.1621,  0.1765],\n",
      "         [-0.2312, -0.0436],\n",
      "         [-0.1015, -0.2855],\n",
      "         [-0.2593, -0.1630],\n",
      "         [-0.3015, -0.2293]],\n",
      "\n",
      "        [[ 1.6455, -0.8030],\n",
      "         [ 1.4985, -0.5395],\n",
      "         [ 0.4954,  0.3420],\n",
      "         [ 1.0623, -0.1802],\n",
      "         [ 1.1401, -0.4462],\n",
      "         [ 1.0870, -0.4071],\n",
      "         [ 1.0430, -0.1299],\n",
      "         [ 1.1138, -0.1641]]])\n"
     ]
    }
   ],
   "source": [
    "# Version 1\n",
    "\n",
    "import torch\n",
    "\n",
    "mask = torch.tril(torch.ones(T, T)) # returns the lower triangle of a matrix\n",
    "mask /= mask.sum(axis=1, keepdim=True) # normalize the mask so each row sums to 1\n",
    "\n",
    "print(mask @ x)"
   ]
  },
  {
   "cell_type": "code",
   "execution_count": 56,
   "metadata": {},
   "outputs": [
    {
     "name": "stdout",
     "output_type": "stream",
     "text": [
      "tensor([[[ 0.1808, -0.0700],\n",
      "         [-0.0894, -0.4926],\n",
      "         [ 0.1490, -0.3199],\n",
      "         [ 0.3504, -0.2238],\n",
      "         [ 0.3525,  0.0545],\n",
      "         [ 0.0688, -0.0396],\n",
      "         [ 0.0927, -0.0682],\n",
      "         [-0.0341,  0.1332]],\n",
      "\n",
      "        [[ 1.3488, -0.1396],\n",
      "         [ 0.8173,  0.4127],\n",
      "         [-0.1342,  0.4395],\n",
      "         [ 0.2711,  0.4774],\n",
      "         [ 0.2421,  0.0694],\n",
      "         [ 0.0084,  0.0020],\n",
      "         [ 0.0712, -0.1128],\n",
      "         [ 0.2527,  0.2149]],\n",
      "\n",
      "        [[-0.6631, -0.2513],\n",
      "         [ 0.1735, -0.0649],\n",
      "         [ 0.1685,  0.3348],\n",
      "         [-0.1621,  0.1765],\n",
      "         [-0.2312, -0.0436],\n",
      "         [-0.1015, -0.2855],\n",
      "         [-0.2593, -0.1630],\n",
      "         [-0.3015, -0.2293]],\n",
      "\n",
      "        [[ 1.6455, -0.8030],\n",
      "         [ 1.4985, -0.5395],\n",
      "         [ 0.4954,  0.3420],\n",
      "         [ 1.0623, -0.1802],\n",
      "         [ 1.1401, -0.4462],\n",
      "         [ 1.0870, -0.4071],\n",
      "         [ 1.0430, -0.1299],\n",
      "         [ 1.1138, -0.1641]]])\n"
     ]
    }
   ],
   "source": [
    "# Version 2\n",
    "# Using softmax to normalize the mask in order to directly be able to use the embedding table\n",
    "\n",
    "import torch\n",
    "import torch.nn.functional as F\n",
    "\n",
    "mask = torch.tril(torch.ones(T, T)) # returns the lower triangle of a matrix\n",
    "affinities = torch.ones(T, T)\n",
    "affinities = affinities.masked_fill(mask == 0, float('-inf'))\n",
    "affinities = F.softmax(affinities, dim=1)\n",
    "\n",
    "print(affinities @ x)"
   ]
  },
  {
   "attachments": {},
   "cell_type": "markdown",
   "metadata": {},
   "source": [
    "## Single Head to perform self-attention"
   ]
  },
  {
   "cell_type": "code",
   "execution_count": 57,
   "metadata": {},
   "outputs": [],
   "source": [
    "import torch\n",
    "import torch.nn as nn\n",
    "import torch.nn.functional as F\n",
    "\n",
    "B, T, C = 4, 8, 2\n",
    "x = torch.randn(B, T, C)\n",
    "\n",
    "# Head of self-attention\n",
    "head_size = 16\n",
    "keys = nn.Linear(C, head_size, bias=False)  # What is stored\n",
    "query = nn.Linear(C, head_size, bias=False) # What is requied\n",
    "value = nn.Linear(C, head_size, bias=False) \n",
    "k = keys(x)  # B, T, head_size\n",
    "q = query(x) # B, T, head_size\n",
    "\n",
    "v = value(x) # Multiply the affinities by this value instead of x\n",
    "\n"
   ]
  },
  {
   "attachments": {},
   "cell_type": "markdown",
   "metadata": {},
   "source": [
    "An intuitive way to think about the query is that for example for a vowel a consonant 2 positions earlier might be more important and this is reflected using the query. \n",
    "In other words it is a way to weight the positions in a data dependent manner. The keys layer on the other hand shows what is contained as weights. In the case of the previous example, if it is important that there is a consonant 2 letters before and there is infact a consonant the dot product will yield a high affinitie."
   ]
  },
  {
   "attachments": {},
   "cell_type": "markdown",
   "metadata": {},
   "source": [
    "### Calculating the affinities"
   ]
  },
  {
   "cell_type": "code",
   "execution_count": 58,
   "metadata": {},
   "outputs": [],
   "source": [
    "# Set the affinities to the dot product of the keys and queries instead of to a torch of ones\n",
    "# The affinities are a weighted average where the weights are defined by the query and the \n",
    "# actual values are defined by the keys\n",
    "affinities = k @ q.transpose(-1, -2) # (B, T, head_size) @ (B, head_size, T) = (B, T, T)"
   ]
  },
  {
   "attachments": {},
   "cell_type": "markdown",
   "metadata": {},
   "source": [
    "The problem with just mutliplying the keys by the queries will yield variance of the order of \n",
    "`head_size` when weights are initialized. Why?\n",
    "\n",
    "(Attention is all you need https://arxiv.org/abs/1706.03762)"
   ]
  },
  {
   "cell_type": "code",
   "execution_count": 59,
   "metadata": {},
   "outputs": [
    {
     "name": "stdout",
     "output_type": "stream",
     "text": [
      "tensor(0.9924)\n",
      "tensor(0.9984)\n",
      "tensor(14.7944)\n"
     ]
    }
   ],
   "source": [
    "B, T, head_size = 4, 8, 15\n",
    "sample_size = 100\n",
    "\n",
    "k_var = 0\n",
    "q_var = 0\n",
    "affinities_var = 0\n",
    "\n",
    "for _ in range(sample_size):\n",
    "    k = torch.randn(B, T, head_size)\n",
    "    q = torch.randn(B, T, head_size)\n",
    "    affinities = k @ q.transpose(-1, -2)\n",
    "\n",
    "    k_var += k.var()\n",
    "    q_var += q.var()\n",
    "    affinities_var += affinities.var()\n",
    "\n",
    "print(k_var / sample_size)\n",
    "print(q_var / sample_size)\n",
    "print(affinities_var / sample_size)"
   ]
  },
  {
   "attachments": {},
   "cell_type": "markdown",
   "metadata": {},
   "source": [
    "This is because rand initializes the tensor with numbers drawn from a gaussian distribution (i.e. they have a 0-mean and a 1-variance). \n",
    "This means that the dot product of matrix where each row/column is a vector with 0-mean and 1-variance will result in the summing up of `head_size` number of vectors with 1-variance and the vectors in the resulting matrix will have `1 * head_size` variance. See proof below\n"
   ]
  },
  {
   "cell_type": "code",
   "execution_count": 60,
   "metadata": {},
   "outputs": [
    {
     "name": "stdout",
     "output_type": "stream",
     "text": [
      "tensor(1.0011)\n"
     ]
    }
   ],
   "source": [
    "sample_size = 100000\n",
    "sum = 0\n",
    "head_size = 3\n",
    "for _ in range(sample_size):\n",
    "    a = torch.randn(head_size, 3)\n",
    "    b = torch.randn(head_size, 3)\n",
    "\n",
    "    sum += (a @ b * head_size ** -0.5).var()\n",
    "\n",
    "print(sum / sample_size)\n",
    "\n",
    "\n",
    "# k = sqrt(head_size)\n",
    "# sigma_a = E[a^2 / k^2] = E[a^2] / head_size\n",
    "# \n",
    "# sigma_t = sigma_a + sigma_b = (E[a^2] + E[b^2]) / head_size\n"
   ]
  },
  {
   "attachments": {},
   "cell_type": "markdown",
   "metadata": {},
   "source": [
    "#### Motivation"
   ]
  },
  {
   "attachments": {},
   "cell_type": "markdown",
   "metadata": {},
   "source": [
    "The reason why it is important to normalize the weights (especially in the initial training) is that the softmax function converges to one-hot encoding of the largest value when there are very positive and very negative values in the same vector. See example below. This means that without the normalization information would be aggregated only from the highest-valued node which loses a lot of information."
   ]
  },
  {
   "cell_type": "code",
   "execution_count": 61,
   "metadata": {},
   "outputs": [
    {
     "name": "stdout",
     "output_type": "stream",
     "text": [
      "tensor([0.2864, 0.1269, 0.1356, 0.3949, 0.0563])\n",
      "tensor([0.0387, 0.0000, 0.0000, 0.9613, 0.0000])\n"
     ]
    }
   ],
   "source": [
    "a = torch.randn(5)\n",
    "sharp_a = a * 10\n",
    "print(F.softmax(a, dim=0)) # Values are fairly diffuse\n",
    "print((F.softmax(sharp_a, dim=0, dtype=torch.float32) * 10000).round()/10000) # Approximates 1-hot encoding"
   ]
  },
  {
   "cell_type": "code",
   "execution_count": 62,
   "metadata": {},
   "outputs": [
    {
     "name": "stdout",
     "output_type": "stream",
     "text": [
      "torch.Size([4, 8, 16])\n",
      "torch.Size([4, 8, 8])\n",
      "torch.Size([4, 8, 16])\n"
     ]
    }
   ],
   "source": [
    "mask = torch.tril(torch.ones(T, T)) \n",
    "affinities = affinities.masked_fill(mask == 0, float('-inf'))\n",
    "affinities = F.softmax(affinities, dim=-1)\n",
    "\n",
    "print(v.shape)\n",
    "print(affinities.shape)\n",
    "print((affinities @ v).shape)"
   ]
  },
  {
   "attachments": {},
   "cell_type": "markdown",
   "metadata": {},
   "source": [
    "### Bringing everything together"
   ]
  },
  {
   "cell_type": "code",
   "execution_count": 63,
   "metadata": {},
   "outputs": [],
   "source": [
    "class Head(nn.Module):\n",
    "\n",
    "    def __init__(self, head_size):\n",
    "        super().__init__()\n",
    "        self.key = nn.Linear(N_EMBD, head_size, bias=False)\n",
    "        self.query = nn.Linear(N_EMBD, head_size, bias=False)\n",
    "        self.value = nn.Linear(N_EMBD, head_size, bias=False)\n",
    "        # Not a parameter of the module, so a pytorch naming convention\n",
    "        self.register_buffer(\"mask\", torch.tril(torch.ones(BLOCK_SIZE, BLOCK_SIZE)))\n",
    "\n",
    "    def forward(self, inputs):\n",
    "        B, T, C = inputs.shape\n",
    "        k = self.key(inputs)\n",
    "        q = self.query(inputs)\n",
    "        v = self.value(inputs)\n",
    "        \n",
    "        affinities = k @ q.transpose(-1, -2) * (C ** -0.5)\n",
    "        affinities = affinities.masked_fill(self.mask[:T, :T] == 0, float('-inf'))\n",
    "        affinities = F.softmax(affinities, dim=1)\n",
    "\n",
    "        return affinities @ v"
   ]
  },
  {
   "cell_type": "code",
   "execution_count": 64,
   "metadata": {},
   "outputs": [],
   "source": [
    "class BigramLanguageModelSelfAttention(nn.Module):\n",
    "   \n",
    "    def __init__(self, vocab_size):\n",
    "        super().__init__()\n",
    "        self.token_embedding_table = nn.Embedding(vocab_size, N_EMBD)\n",
    "        self.position_embedding_table = nn.Embedding(BLOCK_SIZE, N_EMBD)\n",
    "        self.sa_head = Head(N_EMBD)\n",
    "        self.lm_head = nn.Linear(N_EMBD, vocab_size)\n",
    "\n",
    "    def predict(self, input):\n",
    "        B, T = input.shape\n",
    "        tok_embd = self.token_embedding_table(input)\n",
    "        pos_embd = self.position_embedding_table(torch.arange(T, device=device))\n",
    "        x = tok_embd + pos_embd\n",
    "\n",
    "        x = self.sa_head(x)\n",
    "        x = self.lm_head(x)\n",
    "        return x\n",
    "\n",
    "    def forward(self, input, targets):\n",
    "        logits = self.predict(input)\n",
    "        B, T, C = logits.shape\n",
    "        logits = logits.view(B*T, C)\n",
    "        targets = targets.view(B*T)\n",
    "        loss = F.cross_entropy(logits, targets)\n",
    "        return loss\n",
    "\n",
    "    def generate(self, input, max_characters=20):\n",
    "        for _ in range(max_characters):\n",
    "            # Crop the input to the last BLOCK_SIZE tokens\n",
    "            input_cond = input[:, -BLOCK_SIZE:]\n",
    "\n",
    "            logits = self.predict(input_cond)\n",
    "            logits = logits[:, -1, :]\n",
    "            distribution = F.softmax(logits, dim=-1)\n",
    "            next = torch.multinomial(distribution, num_samples=1)\n",
    "            input = torch.cat((input_cond, next), dim=1)\n",
    "        return input_cond[0]"
   ]
  },
  {
   "attachments": {},
   "cell_type": "markdown",
   "metadata": {},
   "source": [
    "# Multi-Head attention"
   ]
  },
  {
   "cell_type": "code",
   "execution_count": 65,
   "metadata": {},
   "outputs": [],
   "source": [
    "class MultiHeadAttention(nn.Module):\n",
    "\n",
    "    def __init__(self, n_heads, head_size):\n",
    "        super().__init__()\n",
    "        self.heads = nn.ModuleList([Head(head_size) for _ in range(n_heads)])\n",
    "\n",
    "    def forward(self, inputs):\n",
    "        B, T, C = inputs.shape\n",
    "        x = torch.cat([head(inputs) for head in self.heads], dim=-1)\n",
    "        return x"
   ]
  },
  {
   "cell_type": "code",
   "execution_count": 66,
   "metadata": {},
   "outputs": [],
   "source": [
    "class BigramLanguageModelMultiHeadAttention(nn.Module):\n",
    "   \n",
    "    def __init__(self, vocab_size):\n",
    "        super().__init__()\n",
    "        self.token_embedding_table = nn.Embedding(vocab_size, N_EMBD)\n",
    "        self.position_embedding_table = nn.Embedding(BLOCK_SIZE, N_EMBD)\n",
    "        # Create 4 heads with size N_EMBD / 4, works like group convolution, where each head corresponds to a part of an image\n",
    "        self.sa_heads = MultiHeadAttention(4, N_EMBD // 4)\n",
    "\n",
    "        self.lm_head = nn.Linear(N_EMBD, vocab_size)\n",
    "\n",
    "    def predict(self, input):\n",
    "        B, T = input.shape\n",
    "        tok_embd = self.token_embedding_table(input)\n",
    "        pos_embd = self.position_embedding_table(torch.arange(T, device=device))\n",
    "        x = tok_embd + pos_embd\n",
    "\n",
    "        x = self.sa_heads(x)\n",
    "        x = self.lm_head(x)\n",
    "        return x\n",
    "\n",
    "    def forward(self, input, targets):\n",
    "        logits = self.predict(input)\n",
    "        B, T, C = logits.shape\n",
    "        logits = logits.view(B*T, C)\n",
    "        targets = targets.view(B*T)\n",
    "        loss = F.cross_entropy(logits, targets)\n",
    "        return loss\n",
    "\n",
    "    def generate(self, input, max_characters=20):\n",
    "        for _ in range(max_characters):\n",
    "            # Crop the input to the last BLOCK_SIZE tokens\n",
    "            input_cond = input[:, -BLOCK_SIZE:]\n",
    "\n",
    "            logits = self.predict(input_cond)\n",
    "            logits = logits[:, -1, :]\n",
    "            distribution = F.softmax(logits, dim=-1)\n",
    "            next = torch.multinomial(distribution, num_samples=1)\n",
    "            input = torch.cat((input_cond, next), dim=1)\n",
    "        return input_cond[0]"
   ]
  },
  {
   "attachments": {},
   "cell_type": "markdown",
   "metadata": {},
   "source": [
    "# Feed-forward "
   ]
  },
  {
   "cell_type": "code",
   "execution_count": 67,
   "metadata": {},
   "outputs": [],
   "source": [
    "class FeedForward(nn.Module):\n",
    "    def __init__(self, n_features):\n",
    "        super().__init__()\n",
    "        # self.net = nn.Sequential(\n",
    "        #     nn.Linear(n_features, 4 * n_features),\n",
    "        #     nn.GELU(),\n",
    "        #     nn.Linear(4 * n_features, n_features),\n",
    "        # )\n",
    "        self.net = nn.Sequential(\n",
    "            nn.Linear(n_features, 4*n_features),\n",
    "            nn.ReLU(),\n",
    "            nn.Linear(4*n_features, n_features),\n",
    "        )\n",
    "    \n",
    "    def forward(self, inputs):\n",
    "        return self.net(inputs)"
   ]
  },
  {
   "cell_type": "code",
   "execution_count": 68,
   "metadata": {},
   "outputs": [],
   "source": [
    "class BigramLanguageModelMultiHeadAttentionFeedForward(nn.Module):\n",
    "    \n",
    "    def __init__(self, vocab_size):\n",
    "        super().__init__()\n",
    "        self.token_embedding_table = nn.Embedding(vocab_size, N_EMBD)\n",
    "        self.position_embedding_table = nn.Embedding(BLOCK_SIZE, N_EMBD)\n",
    "\n",
    "        self.sa_heads = MultiHeadAttention(4, N_EMBD // 4)\n",
    "        self.ff = FeedForward(N_EMBD)\n",
    "        self.lm = nn.Linear(N_EMBD, vocab_size)\n",
    "\n",
    "    def predict(self, input):\n",
    "        B, T = input.shape\n",
    "        tok_embd = self.token_embedding_table(input)\n",
    "        pos_embd = self.position_embedding_table(torch.arange(T, device=device))\n",
    "        x = tok_embd + pos_embd\n",
    "\n",
    "        x = self.sa_heads(x)\n",
    "        x = self.ff(x)\n",
    "        x = self.lm(x)\n",
    "        return x\n",
    "    \n",
    "    def forward(self, input, targets):\n",
    "        logits = self.predict(input)\n",
    "        B, T, C = logits.shape\n",
    "        logits = logits.view(B*T, C)\n",
    "        targets = targets.view(B*T)\n",
    "        loss = F.cross_entropy(logits, targets)\n",
    "        return loss\n",
    "    \n",
    "    def generate(self, input, max_characters):\n",
    "        for _ in range(max_characters):\n",
    "            # Crop the input to the last BLOCK_SIZE tokens\n",
    "            input_cond = input[:, -BLOCK_SIZE:]\n",
    "\n",
    "            logits = self.predict(input_cond)\n",
    "            logits = logits[:, -1, :]\n",
    "            distribution = F.softmax(logits, dim=-1)\n",
    "            next = torch.multinomial(distribution, num_samples=1)\n",
    "            input = torch.cat((input_cond, next), dim=1)\n",
    "        return input_cond[0]"
   ]
  },
  {
   "attachments": {},
   "cell_type": "markdown",
   "metadata": {},
   "source": [
    "# Blocks\n",
    "Blocks are a combination of an Attention Heads and a Feed Forward network. The idea is to chain multiple blocks to create a deep neural network."
   ]
  },
  {
   "cell_type": "code",
   "execution_count": 69,
   "metadata": {},
   "outputs": [],
   "source": [
    "class MultiHeadAttention(nn.Module):\n",
    "    \"\"\" multiple heads of self-attention in parallel \"\"\"\n",
    "\n",
    "    def __init__(self, num_heads, head_size):\n",
    "        super().__init__()\n",
    "        self.heads = nn.ModuleList([Head(head_size) for _ in range(num_heads)])\n",
    "        self.proj = nn.Linear(n_embd, n_embd)\n",
    "\n",
    "    def forward(self, x):\n",
    "        out = torch.cat([h(x) for h in self.heads], dim=-1)\n",
    "        out = self.dropout(self.proj(out))\n",
    "        return out\n",
    "    \n",
    "class MultiHeadAttentionProjection(nn.Module):\n",
    "\n",
    "    def __init__(self, n_heads, head_size):\n",
    "        super().__init__()\n",
    "        self.heads = nn.ModuleList([Head(head_size) for _ in range(n_heads)])\n",
    "        self.proj = nn.Linear(N_EMBD, N_EMBD)\n",
    "\n",
    "    def forward(self, inputs):\n",
    "        x = torch.cat([head(inputs) for head in self.heads], dim=-1)\n",
    "        x = self.proj(x)\n",
    "        return x"
   ]
  },
  {
   "cell_type": "code",
   "execution_count": 70,
   "metadata": {},
   "outputs": [],
   "source": [
    "class Block(nn.Module):\n",
    "    \"\"\" Transformer block: communication followed by computation \"\"\"\n",
    "\n",
    "    def __init__(self, n_embd, n_head):\n",
    "        # n_embd: embedding dimension, n_head: the number of heads we'd like\n",
    "        super().__init__()\n",
    "        head_size = n_embd // n_head\n",
    "        self.sa = MultiHeadAttentionProjection(n_head, head_size)\n",
    "        self.ffwd = FeedForward(n_embd)\n",
    "        # self.ln1 = nn.LayerNorm(n_embd)\n",
    "        # self.ln2 = nn.LayerNorm(n_embd)\n",
    "\n",
    "    # def forward(self, x):\n",
    "    #     x = x + self.sa(self.ln1(x))\n",
    "    #     x = x + self.ffwd(self.ln2(x))\n",
    "    #     return x\n",
    "\n",
    "    def forward(self, input):\n",
    "        input = input + self.sa(input)\n",
    "        input = input + self.ffwd(input)\n",
    "\n",
    "        return input"
   ]
  },
  {
   "cell_type": "code",
   "execution_count": 71,
   "metadata": {},
   "outputs": [],
   "source": [
    "class BigramLanguageModelBlocks(nn.Module):\n",
    "    \n",
    "    def __init__(self, vocab_size):\n",
    "        super().__init__()\n",
    "        self.token_embedding_table = nn.Embedding(vocab_size, N_EMBD)\n",
    "        self.position_embedding_table = nn.Embedding(BLOCK_SIZE, N_EMBD)\n",
    "\n",
    "        self.blocks = nn.Sequential(*[Block(N_EMBD, 4) for _ in range(3)])\n",
    "        self.lm = nn.Linear(N_EMBD, vocab_size)\n",
    "\n",
    "    def predict(self, input):\n",
    "        B, T = input.shape\n",
    "        tok_embd = self.token_embedding_table(input)\n",
    "        pos_embd = self.position_embedding_table(torch.arange(T, device=device))\n",
    "        x = tok_embd + pos_embd\n",
    "\n",
    "        x = self.blocks(x)\n",
    "        x = self.lm(x)\n",
    "        return x\n",
    "    \n",
    "    def forward(self, input, targets):\n",
    "        logits = self.predict(input)\n",
    "        B, T, C = logits.shape\n",
    "        logits = logits.view(B*T, C)\n",
    "        targets = targets.view(B*T)\n",
    "        loss = F.cross_entropy(logits, targets)\n",
    "        return loss\n",
    "    \n",
    "    def generate(self, input, max_characters):\n",
    "        for _ in range(max_characters):\n",
    "            # Crop the input to the last BLOCK_SIZE tokens\n",
    "            input_cond = input[:, -BLOCK_SIZE:]\n",
    "\n",
    "            logits = self.predict(input_cond)\n",
    "            logits = logits[:, -1, :]\n",
    "            distribution = F.softmax(logits, dim=-1)\n",
    "            next = torch.multinomial(distribution, num_samples=1)\n",
    "            input = torch.cat((input_cond, next), dim=1)\n",
    "        return input_cond[0]"
   ]
  },
  {
   "attachments": {},
   "cell_type": "markdown",
   "metadata": {},
   "source": [
    "# Testing out all models"
   ]
  },
  {
   "cell_type": "code",
   "execution_count": 72,
   "metadata": {},
   "outputs": [
    {
     "name": "stdout",
     "output_type": "stream",
     "text": [
      "Epoch 0 - {'test': 4.344202041625977, 'validation': 4.348072052001953}\n",
      "Time taken: 0.4931068420410156\n",
      "Epoch 100 - {'test': 2.56074595451355, 'validation': 2.565858840942383}\n",
      "Time taken: 6.84815526008606\n",
      "Epoch 200 - {'test': 1.9489948749542236, 'validation': 1.939949870109558}\n",
      "Time taken: 6.9171671867370605\n",
      "Epoch 300 - {'test': 1.0976828336715698, 'validation': 1.0865048170089722}\n",
      "Time taken: 6.87441611289978\n",
      "Epoch 400 - {'test': 0.6886070370674133, 'validation': 0.7017566561698914}\n",
      "Time taken: 6.873816967010498\n",
      "Epoch 500 - {'test': 0.5095464587211609, 'validation': 0.4988815486431122}\n",
      "Time taken: 7.0769829750061035\n",
      "Epoch 600 - {'test': 0.3704169988632202, 'validation': 0.3757950961589813}\n",
      "Time taken: 7.040357351303101\n",
      "Epoch 700 - {'test': 1.1924456357955933, 'validation': 1.18844735622406}\n",
      "Time taken: 6.9651198387146\n",
      "Epoch 800 - {'test': 0.5834463238716125, 'validation': 0.5986505150794983}\n",
      "Time taken: 6.933932065963745\n",
      "Epoch 900 - {'test': 0.38834553956985474, 'validation': 0.39535993337631226}\n",
      "Time taken: 7.175118684768677\n"
     ]
    }
   ],
   "source": [
    "# models = [BigramLanguageModelSelfAttention, BigramLanguageModelMultiHeadAttention, BigramLanguageModelMultiHeadAttentionFeedForward]\n",
    "models = [BigramLanguageModelBlocks]\n",
    "context = torch.zeros((1, 1), dtype=torch.long).to(device)\n",
    "for model_cls in models:\n",
    "    model = model_cls(VOCAB_SIZE).to(device)\n",
    "    train(model, epochs=1000, eval_step=100)"
   ]
  },
  {
   "cell_type": "code",
   "execution_count": 77,
   "metadata": {},
   "outputs": [
    {
     "name": "stdout",
     "output_type": "stream",
     "text": [
      "s\n",
      "g btt g fbttttttttttt bbbatotbdd\n",
      "Utofigttttttttttb\n",
      "geeraupeeAy.\n",
      "ONnsusured indereerwhsomery suesuidreh hftO this'sinhrg I'Thd \n"
     ]
    }
   ],
   "source": [
    "res = model.generate(context, max_characters=200)\n",
    "print(decode(res.tolist()))"
   ]
  }
 ],
 "metadata": {
  "kernelspec": {
   "display_name": "fyp",
   "language": "python",
   "name": "python3"
  },
  "language_info": {
   "codemirror_mode": {
    "name": "ipython",
    "version": 3
   },
   "file_extension": ".py",
   "mimetype": "text/x-python",
   "name": "python",
   "nbconvert_exporter": "python",
   "pygments_lexer": "ipython3",
   "version": "3.10.9"
  },
  "orig_nbformat": 4,
  "vscode": {
   "interpreter": {
    "hash": "faf7ff0063859ba4ac17d2ca41341beebe28095055f136698c75e8f10562c7e6"
   }
  }
 },
 "nbformat": 4,
 "nbformat_minor": 2
}
